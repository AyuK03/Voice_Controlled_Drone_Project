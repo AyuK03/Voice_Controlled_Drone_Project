{
 "cells": [
  {
   "cell_type": "code",
   "execution_count": 12,
   "metadata": {},
   "outputs": [],
   "source": [
    "import csv\n",
    "\n",
    "import numpy as np\n",
    "import tensorflow as tf\n",
    "from sklearn.model_selection import train_test_split\n",
    "\n",
    "RANDOM_SEED = 42"
   ]
  },
  {
   "cell_type": "markdown",
   "metadata": {},
   "source": [
    "# 各パス指定"
   ]
  },
  {
   "cell_type": "code",
   "execution_count": 13,
   "metadata": {},
   "outputs": [],
   "source": [
    "dataset = 'model/keypoint_classifier/keypoint.csv'\n",
    "model_save_path = 'model/keypoint_classifier/keypoint_classifier.hdf5'"
   ]
  },
  {
   "cell_type": "markdown",
   "metadata": {},
   "source": [
    "# 分類数設定"
   ]
  },
  {
   "cell_type": "code",
   "execution_count": 14,
   "metadata": {},
   "outputs": [],
   "source": [
    "NUM_CLASSES = 2"
   ]
  },
  {
   "cell_type": "markdown",
   "metadata": {},
   "source": [
    "# 学習データ読み込み"
   ]
  },
  {
   "cell_type": "code",
   "execution_count": 15,
   "metadata": {},
   "outputs": [],
   "source": [
    "X_dataset = np.loadtxt(dataset, delimiter=',', dtype='float32', usecols=list(range(1, (21 * 2) + 1)))"
   ]
  },
  {
   "cell_type": "code",
   "execution_count": 16,
   "metadata": {},
   "outputs": [],
   "source": [
    "y_dataset = np.loadtxt(dataset, delimiter=',', dtype='int32', usecols=(0))"
   ]
  },
  {
   "cell_type": "code",
   "execution_count": 17,
   "metadata": {},
   "outputs": [],
   "source": [
    "X_train, X_test, y_train, y_test = train_test_split(X_dataset, y_dataset, train_size=0.75, random_state=RANDOM_SEED)"
   ]
  },
  {
   "cell_type": "markdown",
   "metadata": {},
   "source": [
    "# モデル構築"
   ]
  },
  {
   "cell_type": "code",
   "execution_count": 18,
   "metadata": {},
   "outputs": [],
   "source": [
    "model = tf.keras.models.Sequential([\n",
    "    tf.keras.layers.Input((21 * 2, )),\n",
    "    tf.keras.layers.Dropout(0.2),\n",
    "    tf.keras.layers.Dense(20, activation='relu'),\n",
    "    tf.keras.layers.Dropout(0.4),\n",
    "    tf.keras.layers.Dense(10, activation='relu'),\n",
    "    tf.keras.layers.Dense(NUM_CLASSES, activation='softmax')\n",
    "])"
   ]
  },
  {
   "cell_type": "code",
   "execution_count": 19,
   "metadata": {},
   "outputs": [
    {
     "name": "stdout",
     "output_type": "stream",
     "text": [
      "Model: \"sequential_1\"\n",
      "_________________________________________________________________\n",
      " Layer (type)                Output Shape              Param #   \n",
      "=================================================================\n",
      " dropout_2 (Dropout)         (None, 42)                0         \n",
      "                                                                 \n",
      " dense_3 (Dense)             (None, 20)                860       \n",
      "                                                                 \n",
      " dropout_3 (Dropout)         (None, 20)                0         \n",
      "                                                                 \n",
      " dense_4 (Dense)             (None, 10)                210       \n",
      "                                                                 \n",
      " dense_5 (Dense)             (None, 8)                 88        \n",
      "                                                                 \n",
      "=================================================================\n",
      "Total params: 1158 (4.52 KB)\n",
      "Trainable params: 1158 (4.52 KB)\n",
      "Non-trainable params: 0 (0.00 Byte)\n",
      "_________________________________________________________________\n"
     ]
    }
   ],
   "source": [
    "model.summary()  # tf.keras.utils.plot_model(model, show_shapes=True)"
   ]
  },
  {
   "cell_type": "code",
   "execution_count": 20,
   "metadata": {},
   "outputs": [],
   "source": [
    "# モデルチェックポイントのコールバック\n",
    "cp_callback = tf.keras.callbacks.ModelCheckpoint(\n",
    "    model_save_path, verbose=1, save_weights_only=False)\n",
    "# 早期打ち切り用コールバック\n",
    "es_callback = tf.keras.callbacks.EarlyStopping(patience=20, verbose=1)"
   ]
  },
  {
   "cell_type": "code",
   "execution_count": 21,
   "metadata": {},
   "outputs": [],
   "source": [
    "# モデルコンパイル\n",
    "model.compile(\n",
    "    optimizer='adam',\n",
    "    loss='sparse_categorical_crossentropy',\n",
    "    metrics=['accuracy']\n",
    ")"
   ]
  },
  {
   "cell_type": "markdown",
   "metadata": {},
   "source": [
    "# モデル訓練"
   ]
  },
  {
   "cell_type": "code",
   "execution_count": 34,
   "metadata": {
    "scrolled": true
   },
   "outputs": [
    {
     "name": "stdout",
     "output_type": "stream",
     "text": [
      "Epoch 1/1000\n",
      "10/10 [==============================] - ETA: 0s - loss: 0.4750 - accuracy: 0.8024 \n",
      "Epoch 1: saving model to model/keypoint_classifier\\keypoint_classifier.hdf5\n",
      "10/10 [==============================] - 3s 108ms/step - loss: 0.4750 - accuracy: 0.8024 - val_loss: 0.1791 - val_accuracy: 0.9304\n",
      "Epoch 2/1000\n",
      " 8/10 [=======================>......] - ETA: 0s - loss: 0.4587 - accuracy: 0.8262"
     ]
    },
    {
     "name": "stderr",
     "output_type": "stream",
     "text": [
      "C:\\Users\\Administrator\\AppData\\Local\\Programs\\Python\\Python310\\lib\\site-packages\\keras\\src\\engine\\training.py:3103: UserWarning: You are saving your model as an HDF5 file via `model.save()`. This file format is considered legacy. We recommend using instead the native Keras format, e.g. `model.save('my_model.keras')`.\n",
      "  saving_api.save_model(\n"
     ]
    },
    {
     "name": "stdout",
     "output_type": "stream",
     "text": [
      "\n",
      "Epoch 2: saving model to model/keypoint_classifier\\keypoint_classifier.hdf5\n",
      "10/10 [==============================] - 0s 33ms/step - loss: 0.4510 - accuracy: 0.8290 - val_loss: 0.1739 - val_accuracy: 0.9304\n",
      "Epoch 3/1000\n",
      " 8/10 [=======================>......] - ETA: 0s - loss: 0.4956 - accuracy: 0.8115\n",
      "Epoch 3: saving model to model/keypoint_classifier\\keypoint_classifier.hdf5\n",
      "10/10 [==============================] - 0s 30ms/step - loss: 0.5095 - accuracy: 0.8033 - val_loss: 0.1720 - val_accuracy: 0.9304\n",
      "Epoch 4/1000\n",
      " 8/10 [=======================>......] - ETA: 0s - loss: 0.4879 - accuracy: 0.8154\n",
      "Epoch 4: saving model to model/keypoint_classifier\\keypoint_classifier.hdf5\n",
      "10/10 [==============================] - 0s 32ms/step - loss: 0.4840 - accuracy: 0.8187 - val_loss: 0.1715 - val_accuracy: 0.9304\n",
      "Epoch 5/1000\n",
      " 1/10 [==>...........................] - ETA: 0s - loss: 0.4744 - accuracy: 0.8281\n",
      "Epoch 5: saving model to model/keypoint_classifier\\keypoint_classifier.hdf5\n",
      "10/10 [==============================] - 0s 24ms/step - loss: 0.4339 - accuracy: 0.8308 - val_loss: 0.1707 - val_accuracy: 0.9304\n",
      "Epoch 6/1000\n",
      "10/10 [==============================] - ETA: 0s - loss: 0.4782 - accuracy: 0.8041\n",
      "Epoch 6: saving model to model/keypoint_classifier\\keypoint_classifier.hdf5\n",
      "10/10 [==============================] - 0s 27ms/step - loss: 0.4782 - accuracy: 0.8041 - val_loss: 0.1647 - val_accuracy: 0.9407\n",
      "Epoch 7/1000\n",
      " 9/10 [==========================>...] - ETA: 0s - loss: 0.4492 - accuracy: 0.8142\n",
      "Epoch 7: saving model to model/keypoint_classifier\\keypoint_classifier.hdf5\n",
      "10/10 [==============================] - 0s 26ms/step - loss: 0.4530 - accuracy: 0.8101 - val_loss: 0.1607 - val_accuracy: 0.9588\n",
      "Epoch 8/1000\n",
      " 1/10 [==>...........................] - ETA: 0s - loss: 0.5819 - accuracy: 0.7266\n",
      "Epoch 8: saving model to model/keypoint_classifier\\keypoint_classifier.hdf5\n",
      "10/10 [==============================] - 0s 26ms/step - loss: 0.4837 - accuracy: 0.7981 - val_loss: 0.1599 - val_accuracy: 0.9691\n",
      "Epoch 9/1000\n",
      " 7/10 [====================>.........] - ETA: 0s - loss: 0.4647 - accuracy: 0.8136\n",
      "Epoch 9: saving model to model/keypoint_classifier\\keypoint_classifier.hdf5\n",
      "10/10 [==============================] - 0s 29ms/step - loss: 0.4710 - accuracy: 0.8110 - val_loss: 0.1616 - val_accuracy: 0.9485\n",
      "Epoch 10/1000\n",
      "10/10 [==============================] - ETA: 0s - loss: 0.4898 - accuracy: 0.7973\n",
      "Epoch 10: saving model to model/keypoint_classifier\\keypoint_classifier.hdf5\n",
      "10/10 [==============================] - 0s 26ms/step - loss: 0.4898 - accuracy: 0.7973 - val_loss: 0.1642 - val_accuracy: 0.9304\n",
      "Epoch 11/1000\n",
      " 1/10 [==>...........................] - ETA: 0s - loss: 0.5868 - accuracy: 0.7266\n",
      "Epoch 11: saving model to model/keypoint_classifier\\keypoint_classifier.hdf5\n",
      "10/10 [==============================] - 0s 24ms/step - loss: 0.4925 - accuracy: 0.7887 - val_loss: 0.1678 - val_accuracy: 0.9304\n",
      "Epoch 12/1000\n",
      " 1/10 [==>...........................] - ETA: 0s - loss: 0.4778 - accuracy: 0.7734\n",
      "Epoch 12: saving model to model/keypoint_classifier\\keypoint_classifier.hdf5\n",
      "10/10 [==============================] - 0s 28ms/step - loss: 0.4603 - accuracy: 0.8041 - val_loss: 0.1736 - val_accuracy: 0.9304\n",
      "Epoch 13/1000\n",
      " 1/10 [==>...........................] - ETA: 0s - loss: 0.5922 - accuracy: 0.8047\n",
      "Epoch 13: saving model to model/keypoint_classifier\\keypoint_classifier.hdf5\n",
      "10/10 [==============================] - 0s 25ms/step - loss: 0.4681 - accuracy: 0.8093 - val_loss: 0.1738 - val_accuracy: 0.9304\n",
      "Epoch 14/1000\n",
      " 9/10 [==========================>...] - ETA: 0s - loss: 0.4347 - accuracy: 0.8142\n",
      "Epoch 14: saving model to model/keypoint_classifier\\keypoint_classifier.hdf5\n",
      "10/10 [==============================] - 0s 28ms/step - loss: 0.4372 - accuracy: 0.8136 - val_loss: 0.1688 - val_accuracy: 0.9304\n",
      "Epoch 15/1000\n",
      " 1/10 [==>...........................] - ETA: 0s - loss: 0.6132 - accuracy: 0.7656\n",
      "Epoch 15: saving model to model/keypoint_classifier\\keypoint_classifier.hdf5\n",
      "10/10 [==============================] - 0s 24ms/step - loss: 0.5150 - accuracy: 0.7921 - val_loss: 0.1695 - val_accuracy: 0.9304\n",
      "Epoch 16/1000\n",
      " 1/10 [==>...........................] - ETA: 0s - loss: 0.4756 - accuracy: 0.8125\n",
      "Epoch 16: saving model to model/keypoint_classifier\\keypoint_classifier.hdf5\n",
      "10/10 [==============================] - 0s 25ms/step - loss: 0.4425 - accuracy: 0.8213 - val_loss: 0.1679 - val_accuracy: 0.9304\n",
      "Epoch 17/1000\n",
      " 1/10 [==>...........................] - ETA: 0s - loss: 0.5931 - accuracy: 0.7266\n",
      "Epoch 17: saving model to model/keypoint_classifier\\keypoint_classifier.hdf5\n",
      "10/10 [==============================] - 0s 25ms/step - loss: 0.5053 - accuracy: 0.7912 - val_loss: 0.1685 - val_accuracy: 0.9304\n",
      "Epoch 18/1000\n",
      "10/10 [==============================] - ETA: 0s - loss: 0.4599 - accuracy: 0.8050\n",
      "Epoch 18: saving model to model/keypoint_classifier\\keypoint_classifier.hdf5\n",
      "10/10 [==============================] - 0s 25ms/step - loss: 0.4599 - accuracy: 0.8050 - val_loss: 0.1729 - val_accuracy: 0.9304\n",
      "Epoch 19/1000\n",
      "10/10 [==============================] - ETA: 0s - loss: 0.4523 - accuracy: 0.8282\n",
      "Epoch 19: saving model to model/keypoint_classifier\\keypoint_classifier.hdf5\n",
      "10/10 [==============================] - 0s 28ms/step - loss: 0.4523 - accuracy: 0.8282 - val_loss: 0.1770 - val_accuracy: 0.9304\n",
      "Epoch 20/1000\n",
      " 8/10 [=======================>......] - ETA: 0s - loss: 0.4936 - accuracy: 0.8066\n",
      "Epoch 20: saving model to model/keypoint_classifier\\keypoint_classifier.hdf5\n",
      "10/10 [==============================] - 0s 24ms/step - loss: 0.4834 - accuracy: 0.8127 - val_loss: 0.1756 - val_accuracy: 0.9304\n",
      "Epoch 21/1000\n",
      " 9/10 [==========================>...] - ETA: 0s - loss: 0.4726 - accuracy: 0.8082\n",
      "Epoch 21: saving model to model/keypoint_classifier\\keypoint_classifier.hdf5\n",
      "10/10 [==============================] - 0s 29ms/step - loss: 0.4717 - accuracy: 0.8093 - val_loss: 0.1736 - val_accuracy: 0.9304\n",
      "Epoch 22/1000\n",
      " 1/10 [==>...........................] - ETA: 0s - loss: 0.3972 - accuracy: 0.8359\n",
      "Epoch 22: saving model to model/keypoint_classifier\\keypoint_classifier.hdf5\n",
      "10/10 [==============================] - 0s 24ms/step - loss: 0.4575 - accuracy: 0.8084 - val_loss: 0.1689 - val_accuracy: 0.9304\n",
      "Epoch 23/1000\n",
      " 1/10 [==>...........................] - ETA: 0s - loss: 0.4209 - accuracy: 0.7969\n",
      "Epoch 23: saving model to model/keypoint_classifier\\keypoint_classifier.hdf5\n",
      "10/10 [==============================] - 0s 28ms/step - loss: 0.4418 - accuracy: 0.8239 - val_loss: 0.1704 - val_accuracy: 0.9304\n",
      "Epoch 24/1000\n",
      "10/10 [==============================] - ETA: 0s - loss: 0.4679 - accuracy: 0.8144\n",
      "Epoch 24: saving model to model/keypoint_classifier\\keypoint_classifier.hdf5\n",
      "10/10 [==============================] - 0s 26ms/step - loss: 0.4679 - accuracy: 0.8144 - val_loss: 0.1686 - val_accuracy: 0.9304\n",
      "Epoch 25/1000\n",
      "10/10 [==============================] - ETA: 0s - loss: 0.5075 - accuracy: 0.7938\n",
      "Epoch 25: saving model to model/keypoint_classifier\\keypoint_classifier.hdf5\n",
      "10/10 [==============================] - 0s 27ms/step - loss: 0.5075 - accuracy: 0.7938 - val_loss: 0.1706 - val_accuracy: 0.9253\n",
      "Epoch 26/1000\n",
      " 1/10 [==>...........................] - ETA: 0s - loss: 0.4019 - accuracy: 0.8281\n",
      "Epoch 26: saving model to model/keypoint_classifier\\keypoint_classifier.hdf5\n",
      "10/10 [==============================] - 0s 24ms/step - loss: 0.4634 - accuracy: 0.8058 - val_loss: 0.1685 - val_accuracy: 0.9253\n",
      "Epoch 27/1000\n",
      " 9/10 [==========================>...] - ETA: 0s - loss: 0.4792 - accuracy: 0.8099\n",
      "Epoch 27: saving model to model/keypoint_classifier\\keypoint_classifier.hdf5\n",
      "10/10 [==============================] - 0s 25ms/step - loss: 0.4807 - accuracy: 0.8084 - val_loss: 0.1683 - val_accuracy: 0.9407\n",
      "Epoch 28/1000\n",
      "10/10 [==============================] - ETA: 0s - loss: 0.4841 - accuracy: 0.8033\n",
      "Epoch 28: saving model to model/keypoint_classifier\\keypoint_classifier.hdf5\n",
      "10/10 [==============================] - 0s 32ms/step - loss: 0.4841 - accuracy: 0.8033 - val_loss: 0.1699 - val_accuracy: 0.9356\n",
      "Epoch 28: early stopping\n"
     ]
    },
    {
     "data": {
      "text/plain": [
       "<keras.src.callbacks.History at 0x1fa09f23070>"
      ]
     },
     "execution_count": 34,
     "metadata": {},
     "output_type": "execute_result"
    }
   ],
   "source": [
    "model.fit(\n",
    "    X_train,\n",
    "    y_train,\n",
    "    epochs=1000,\n",
    "    batch_size=128,\n",
    "    validation_data=(X_test, y_test),\n",
    "    callbacks=[cp_callback, es_callback]\n",
    ")"
   ]
  },
  {
   "cell_type": "code",
   "execution_count": 35,
   "metadata": {},
   "outputs": [
    {
     "name": "stdout",
     "output_type": "stream",
     "text": [
      "4/4 [==============================] - 0s 7ms/step - loss: 0.1699 - accuracy: 0.9356\n"
     ]
    }
   ],
   "source": [
    "# モデル評価\n",
    "val_loss, val_acc = model.evaluate(X_test, y_test, batch_size=128)"
   ]
  },
  {
   "cell_type": "code",
   "execution_count": 36,
   "metadata": {},
   "outputs": [],
   "source": [
    "# 保存したモデルのロード\n",
    "model = tf.keras.models.load_model(model_save_path)"
   ]
  },
  {
   "cell_type": "code",
   "execution_count": 37,
   "metadata": {},
   "outputs": [
    {
     "name": "stdout",
     "output_type": "stream",
     "text": [
      "1/1 [==============================] - 0s 206ms/step\n",
      "[8.5606545e-05 2.6763441e-06 3.6749688e-03 2.0868594e-03 1.5312995e-01\n",
      " 1.0655454e-03 5.5240025e-07 8.3995390e-01]\n",
      "7\n"
     ]
    }
   ],
   "source": [
    "# 推論テスト\n",
    "predict_result = model.predict(np.array([X_test[0]]))\n",
    "print(np.squeeze(predict_result))\n",
    "print(np.argmax(np.squeeze(predict_result)))"
   ]
  },
  {
   "cell_type": "markdown",
   "metadata": {},
   "source": [
    "# 混同行列"
   ]
  },
  {
   "cell_type": "code",
   "execution_count": 38,
   "metadata": {},
   "outputs": [
    {
     "name": "stdout",
     "output_type": "stream",
     "text": [
      "13/13 [==============================] - 0s 3ms/step\n"
     ]
    },
    {
     "data": {
      "image/png": "[encoded data removed]",
      "text/plain": [
       "<Figure size 700x600 with 2 Axes>"
      ]
     },
     "metadata": {},
     "output_type": "display_data"
    },
    {
     "name": "stdout",
     "output_type": "stream",
     "text": [
      "Classification Report\n",
      "              precision    recall  f1-score   support\n",
      "\n",
      "           0       1.00      1.00      1.00        48\n",
      "           1       1.00      1.00      1.00        64\n",
      "           2       1.00      1.00      1.00        52\n",
      "           3       1.00      1.00      1.00        32\n",
      "           4       1.00      0.47      0.64        47\n",
      "           5       1.00      1.00      1.00        48\n",
      "           6       1.00      1.00      1.00        40\n",
      "           7       0.70      1.00      0.82        57\n",
      "\n",
      "    accuracy                           0.94       388\n",
      "   macro avg       0.96      0.93      0.93       388\n",
      "weighted avg       0.96      0.94      0.93       388\n",
      "\n"
     ]
    }
   ],
   "source": [
    "import pandas as pd\n",
    "import seaborn as sns\n",
    "import matplotlib.pyplot as plt\n",
    "from sklearn.metrics import confusion_matrix, classification_report\n",
    "\n",
    "def print_confusion_matrix(y_true, y_pred, report=True):\n",
    "    labels = sorted(list(set(y_true)))\n",
    "    cmx_data = confusion_matrix(y_true, y_pred, labels=labels)\n",
    "    \n",
    "    df_cmx = pd.DataFrame(cmx_data, index=labels, columns=labels)\n",
    " \n",
    "    fig, ax = plt.subplots(figsize=(7, 6))\n",
    "    sns.heatmap(df_cmx, annot=True, fmt='g' ,square=False)\n",
    "    ax.set_ylim(len(set(y_true)), 0)\n",
    "    plt.show()\n",
    "    \n",
    "    if report:\n",
    "        print('Classification Report')\n",
    "        print(classification_report(y_test, y_pred))\n",
    "\n",
    "Y_pred = model.predict(X_test)\n",
    "y_pred = np.argmax(Y_pred, axis=1)\n",
    "\n",
    "print_confusion_matrix(y_test, y_pred)"
   ]
  },
  {
   "cell_type": "markdown",
   "metadata": {},
   "source": [
    "# Tensorflow-Lite用のモデルへ変換"
   ]
  },
  {
   "cell_type": "code",
   "execution_count": 39,
   "metadata": {},
   "outputs": [
    {
     "name": "stderr",
     "output_type": "stream",
     "text": [
      "C:\\Users\\Administrator\\AppData\\Local\\Programs\\Python\\Python310\\lib\\site-packages\\keras\\src\\engine\\training.py:3103: UserWarning: You are saving your model as an HDF5 file via `model.save()`. This file format is considered legacy. We recommend using instead the native Keras format, e.g. `model.save('my_model.keras')`.\n",
      "  saving_api.save_model(\n"
     ]
    }
   ],
   "source": [
    "# 推論専用のモデルとして保存\n",
    "model.save(model_save_path, include_optimizer=False)"
   ]
  },
  {
   "cell_type": "code",
   "execution_count": 40,
   "metadata": {},
   "outputs": [
    {
     "name": "stdout",
     "output_type": "stream",
     "text": [
      "INFO:tensorflow:Assets written to: C:\\Users\\ADMINI~1\\AppData\\Local\\Temp\\tmpzn009y1c\\assets\n"
     ]
    },
    {
     "name": "stderr",
     "output_type": "stream",
     "text": [
      "INFO:tensorflow:Assets written to: C:\\Users\\ADMINI~1\\AppData\\Local\\Temp\\tmpzn009y1c\\assets\n"
     ]
    },
    {
     "data": {
      "text/plain": [
       "6748"
      ]
     },
     "execution_count": 40,
     "metadata": {},
     "output_type": "execute_result"
    }
   ],
   "source": [
    "# モデルを変換(量子化)\n",
    "tflite_save_path = 'model/keypoint_classifier/keypoint_classifier.tflite'\n",
    "\n",
    "converter = tf.lite.TFLiteConverter.from_keras_model(model)\n",
    "converter.optimizations = [tf.lite.Optimize.DEFAULT]\n",
    "tflite_quantized_model = converter.convert()\n",
    "\n",
    "open(tflite_save_path, 'wb').write(tflite_quantized_model)"
   ]
  },
  {
   "cell_type": "markdown",
   "metadata": {},
   "source": [
    "# 推論テスト"
   ]
  },
  {
   "cell_type": "code",
   "execution_count": 41,
   "metadata": {},
   "outputs": [],
   "source": [
    "interpreter = tf.lite.Interpreter(model_path=tflite_save_path)\n",
    "interpreter.allocate_tensors()"
   ]
  },
  {
   "cell_type": "code",
   "execution_count": 42,
   "metadata": {},
   "outputs": [],
   "source": [
    "# 入出力テンソルを取得\n",
    "input_details = interpreter.get_input_details()\n",
    "output_details = interpreter.get_output_details()"
   ]
  },
  {
   "cell_type": "code",
   "execution_count": 43,
   "metadata": {},
   "outputs": [],
   "source": [
    "interpreter.set_tensor(input_details[0]['index'], np.array([X_test[0]]))"
   ]
  },
  {
   "cell_type": "code",
   "execution_count": 44,
   "metadata": {
    "scrolled": true
   },
   "outputs": [
    {
     "name": "stdout",
     "output_type": "stream",
     "text": [
      "CPU times: total: 0 ns\n",
      "Wall time: 0 ns\n"
     ]
    }
   ],
   "source": [
    "%%time\n",
    "# 推論実施\n",
    "interpreter.invoke()\n",
    "tflite_results = interpreter.get_tensor(output_details[0]['index'])"
   ]
  },
  {
   "cell_type": "code",
   "execution_count": 45,
   "metadata": {},
   "outputs": [
    {
     "name": "stdout",
     "output_type": "stream",
     "text": [
      "[8.5606465e-05 2.6763389e-06 3.6749670e-03 2.0868592e-03 1.5312995e-01\n",
      " 1.0655448e-03 5.5240019e-07 8.3995390e-01]\n",
      "7\n"
     ]
    }
   ],
   "source": [
    "print(np.squeeze(tflite_results))\n",
    "print(np.argmax(np.squeeze(tflite_results)))"
   ]
  },
  {
   "cell_type": "code",
   "execution_count": null,
   "metadata": {},
   "outputs": [],
   "source": []
  },
  {
   "cell_type": "code",
   "execution_count": null,
   "metadata": {},
   "outputs": [],
   "source": []
  },
  {
   "cell_type": "code",
   "execution_count": null,
   "metadata": {},
   "outputs": [],
   "source": []
  }
 ],
 "metadata": {
  "kernelspec": {
   "display_name": "Python 3 (ipykernel)",
   "language": "python",
   "name": "python3"
  },
  "language_info": {
   "codemirror_mode": {
    "name": "ipython",
    "version": 3
   },
   "file_extension": ".py",
   "mimetype": "text/x-python",
   "name": "python",
   "nbconvert_exporter": "python",
   "pygments_lexer": "ipython3",
   "version": "3.10.0"
  }
 },
 "nbformat": 4,
 "nbformat_minor": 4
}
